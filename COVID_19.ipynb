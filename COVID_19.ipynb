{
  "cells": [
    {
      "cell_type": "code",
      "metadata": {
        "id": "OpLmz1-JwOAa",
        "colab_type": "code",
        "outputId": "d6c4a16c-7976-4c2b-dc50-26a740e4f48e",
        "colab": {
          "base_uri": "https://localhost:8080/",
          "height": 309
        }
      },
      "source": [
        "pip install pyramid-arima"
      ],
      "execution_count": 0,
      "outputs": [
        {
          "output_type": "stream",
          "text": [
            "Collecting pyramid-arima\n",
            "\u001b[?25l  Downloading https://files.pythonhosted.org/packages/5c/84/57422f2a6ade3161c586545e38b518ba1b7ab30ee4a4acc29110c0aba2bc/pyramid_arima-0.9.0-cp36-cp36m-manylinux1_x86_64.whl (597kB)\n",
            "\r\u001b[K     |▌                               | 10kB 17.2MB/s eta 0:00:01\r\u001b[K     |█                               | 20kB 1.7MB/s eta 0:00:01\r\u001b[K     |█▋                              | 30kB 2.0MB/s eta 0:00:01\r\u001b[K     |██▏                             | 40kB 2.3MB/s eta 0:00:01\r\u001b[K     |██▊                             | 51kB 1.9MB/s eta 0:00:01\r\u001b[K     |███▎                            | 61kB 2.2MB/s eta 0:00:01\r\u001b[K     |███▉                            | 71kB 2.4MB/s eta 0:00:01\r\u001b[K     |████▍                           | 81kB 2.6MB/s eta 0:00:01\r\u001b[K     |█████                           | 92kB 2.8MB/s eta 0:00:01\r\u001b[K     |█████▌                          | 102kB 2.7MB/s eta 0:00:01\r\u001b[K     |██████                          | 112kB 2.7MB/s eta 0:00:01\r\u001b[K     |██████▋                         | 122kB 2.7MB/s eta 0:00:01\r\u001b[K     |███████▏                        | 133kB 2.7MB/s eta 0:00:01\r\u001b[K     |███████▊                        | 143kB 2.7MB/s eta 0:00:01\r\u001b[K     |████████▏                       | 153kB 2.7MB/s eta 0:00:01\r\u001b[K     |████████▊                       | 163kB 2.7MB/s eta 0:00:01\r\u001b[K     |█████████▎                      | 174kB 2.7MB/s eta 0:00:01\r\u001b[K     |█████████▉                      | 184kB 2.7MB/s eta 0:00:01\r\u001b[K     |██████████▍                     | 194kB 2.7MB/s eta 0:00:01\r\u001b[K     |███████████                     | 204kB 2.7MB/s eta 0:00:01\r\u001b[K     |███████████▌                    | 215kB 2.7MB/s eta 0:00:01\r\u001b[K     |████████████                    | 225kB 2.7MB/s eta 0:00:01\r\u001b[K     |████████████▋                   | 235kB 2.7MB/s eta 0:00:01\r\u001b[K     |█████████████▏                  | 245kB 2.7MB/s eta 0:00:01\r\u001b[K     |█████████████▊                  | 256kB 2.7MB/s eta 0:00:01\r\u001b[K     |██████████████▎                 | 266kB 2.7MB/s eta 0:00:01\r\u001b[K     |██████████████▉                 | 276kB 2.7MB/s eta 0:00:01\r\u001b[K     |███████████████▍                | 286kB 2.7MB/s eta 0:00:01\r\u001b[K     |████████████████                | 296kB 2.7MB/s eta 0:00:01\r\u001b[K     |████████████████▍               | 307kB 2.7MB/s eta 0:00:01\r\u001b[K     |█████████████████               | 317kB 2.7MB/s eta 0:00:01\r\u001b[K     |█████████████████▌              | 327kB 2.7MB/s eta 0:00:01\r\u001b[K     |██████████████████              | 337kB 2.7MB/s eta 0:00:01\r\u001b[K     |██████████████████▋             | 348kB 2.7MB/s eta 0:00:01\r\u001b[K     |███████████████████▏            | 358kB 2.7MB/s eta 0:00:01\r\u001b[K     |███████████████████▊            | 368kB 2.7MB/s eta 0:00:01\r\u001b[K     |████████████████████▎           | 378kB 2.7MB/s eta 0:00:01\r\u001b[K     |████████████████████▉           | 389kB 2.7MB/s eta 0:00:01\r\u001b[K     |█████████████████████▍          | 399kB 2.7MB/s eta 0:00:01\r\u001b[K     |██████████████████████          | 409kB 2.7MB/s eta 0:00:01\r\u001b[K     |██████████████████████▌         | 419kB 2.7MB/s eta 0:00:01\r\u001b[K     |███████████████████████         | 430kB 2.7MB/s eta 0:00:01\r\u001b[K     |███████████████████████▋        | 440kB 2.7MB/s eta 0:00:01\r\u001b[K     |████████████████████████▏       | 450kB 2.7MB/s eta 0:00:01\r\u001b[K     |████████████████████████▋       | 460kB 2.7MB/s eta 0:00:01\r\u001b[K     |█████████████████████████▏      | 471kB 2.7MB/s eta 0:00:01\r\u001b[K     |█████████████████████████▊      | 481kB 2.7MB/s eta 0:00:01\r\u001b[K     |██████████████████████████▎     | 491kB 2.7MB/s eta 0:00:01\r\u001b[K     |██████████████████████████▉     | 501kB 2.7MB/s eta 0:00:01\r\u001b[K     |███████████████████████████▍    | 512kB 2.7MB/s eta 0:00:01\r\u001b[K     |████████████████████████████    | 522kB 2.7MB/s eta 0:00:01\r\u001b[K     |████████████████████████████▌   | 532kB 2.7MB/s eta 0:00:01\r\u001b[K     |█████████████████████████████   | 542kB 2.7MB/s eta 0:00:01\r\u001b[K     |█████████████████████████████▋  | 552kB 2.7MB/s eta 0:00:01\r\u001b[K     |██████████████████████████████▏ | 563kB 2.7MB/s eta 0:00:01\r\u001b[K     |██████████████████████████████▊ | 573kB 2.7MB/s eta 0:00:01\r\u001b[K     |███████████████████████████████▎| 583kB 2.7MB/s eta 0:00:01\r\u001b[K     |███████████████████████████████▉| 593kB 2.7MB/s eta 0:00:01\r\u001b[K     |████████████████████████████████| 604kB 2.7MB/s \n",
            "\u001b[?25hRequirement already satisfied: statsmodels>=0.9.0 in /usr/local/lib/python3.6/dist-packages (from pyramid-arima) (0.10.2)\n",
            "Requirement already satisfied: scipy>=0.9 in /usr/local/lib/python3.6/dist-packages (from pyramid-arima) (1.4.1)\n",
            "Requirement already satisfied: Cython>=0.23 in /usr/local/lib/python3.6/dist-packages (from pyramid-arima) (0.29.16)\n",
            "Requirement already satisfied: scikit-learn>=0.17 in /usr/local/lib/python3.6/dist-packages (from pyramid-arima) (0.22.2.post1)\n",
            "Requirement already satisfied: numpy>=1.10 in /usr/local/lib/python3.6/dist-packages (from pyramid-arima) (1.18.2)\n",
            "Requirement already satisfied: pandas>=0.19 in /usr/local/lib/python3.6/dist-packages (from pyramid-arima) (1.0.3)\n",
            "Requirement already satisfied: patsy>=0.4.0 in /usr/local/lib/python3.6/dist-packages (from statsmodels>=0.9.0->pyramid-arima) (0.5.1)\n",
            "Requirement already satisfied: joblib>=0.11 in /usr/local/lib/python3.6/dist-packages (from scikit-learn>=0.17->pyramid-arima) (0.14.1)\n",
            "Requirement already satisfied: pytz>=2017.2 in /usr/local/lib/python3.6/dist-packages (from pandas>=0.19->pyramid-arima) (2018.9)\n",
            "Requirement already satisfied: python-dateutil>=2.6.1 in /usr/local/lib/python3.6/dist-packages (from pandas>=0.19->pyramid-arima) (2.8.1)\n",
            "Requirement already satisfied: six in /usr/local/lib/python3.6/dist-packages (from patsy>=0.4.0->statsmodels>=0.9.0->pyramid-arima) (1.12.0)\n",
            "Installing collected packages: pyramid-arima\n",
            "Successfully installed pyramid-arima-0.9.0\n"
          ],
          "name": "stdout"
        }
      ]
    },
    {
      "cell_type": "code",
      "metadata": {
        "id": "sHXodJn1PIh5",
        "colab_type": "code",
        "outputId": "911f09e4-42ae-4110-d9c1-feca04d2e0df",
        "colab": {
          "base_uri": "https://localhost:8080/",
          "height": 343
        }
      },
      "source": [
        "import datetime\n",
        "import pandas as pd\n",
        "import numpy as np\n",
        "import matplotlib.pyplot as plt\n",
        "import seaborn as sns\n",
        "from datetime import datetime\n",
        "from datetime import timedelta\n",
        "from statsmodels.tsa.seasonal import seasonal_decompose\n",
        "from pandas.plotting import register_matplotlib_converters\n",
        "from pyramid.arima import auto_arima\n",
        "%matplotlib inline\n",
        "register_matplotlib_converters()\n",
        "steps = 10\n",
        "window = 12"
      ],
      "execution_count": 0,
      "outputs": [
        {
          "output_type": "stream",
          "text": [
            "/usr/local/lib/python3.6/dist-packages/statsmodels/tools/_testing.py:19: FutureWarning: pandas.util.testing is deprecated. Use the functions in the public API at pandas.testing instead.\n",
            "  import pandas.util.testing as tm\n",
            "/usr/local/lib/python3.6/dist-packages/sklearn/externals/six.py:31: FutureWarning: The module is deprecated in version 0.21 and will be removed in version 0.23 since we've dropped support for Python 2.7. Please rely on the official version of six (https://pypi.org/project/six/).\n",
            "  \"(https://pypi.org/project/six/).\", FutureWarning)\n",
            "/usr/local/lib/python3.6/dist-packages/sklearn/externals/joblib/__init__.py:15: FutureWarning: sklearn.externals.joblib is deprecated in 0.21 and will be removed in 0.23. Please import this functionality directly from joblib, which can be installed with: pip install joblib. If this warning is raised when loading pickled models, you may need to re-serialize those models with scikit-learn 0.21+.\n",
            "  warnings.warn(msg, category=FutureWarning)\n",
            "/usr/local/lib/python3.6/dist-packages/pyramid/__init__.py:68: UserWarning: \n",
            "    The 'pyramid' package will be migrating to a new namespace beginning in \n",
            "    version 1.0.0: 'pmdarima'. This is due to a package name collision with the\n",
            "    Pyramid web framework. For more information, see Issue #34:\n",
            "    \n",
            "        https://github.com/tgsmith61591/pyramid/issues/34\n",
            "        \n",
            "    The package will subsequently be installable via the name 'pmdarima'; the\n",
            "    only functional change to the user will be the import name. All imports\n",
            "    from 'pyramid' will change to 'pmdarima'.\n",
            "    \n",
            "  \"\"\", UserWarning)\n"
          ],
          "name": "stderr"
        }
      ]
    },
    {
      "cell_type": "code",
      "metadata": {
        "id": "K_bzLqV_J_g8",
        "colab_type": "code",
        "outputId": "86f4384d-3ffa-4d53-b7b5-11478350f341",
        "colab": {
          "base_uri": "https://localhost:8080/",
          "height": 221
        }
      },
      "source": [
        "covid_count_df =  pd.read_csv('/Covid-19/covid_19_india.csv').fillna(0)\n",
        "print(covid_count_df.shape)\n",
        "covid_count_df.head()"
      ],
      "execution_count": 0,
      "outputs": [
        {
          "output_type": "stream",
          "text": [
            "(1025, 9)\n"
          ],
          "name": "stdout"
        },
        {
          "output_type": "execute_result",
          "data": {
            "text/html": [
              "<div>\n",
              "<style scoped>\n",
              "    .dataframe tbody tr th:only-of-type {\n",
              "        vertical-align: middle;\n",
              "    }\n",
              "\n",
              "    .dataframe tbody tr th {\n",
              "        vertical-align: top;\n",
              "    }\n",
              "\n",
              "    .dataframe thead th {\n",
              "        text-align: right;\n",
              "    }\n",
              "</style>\n",
              "<table border=\"1\" class=\"dataframe\">\n",
              "  <thead>\n",
              "    <tr style=\"text-align: right;\">\n",
              "      <th></th>\n",
              "      <th>Sno</th>\n",
              "      <th>Date</th>\n",
              "      <th>Time</th>\n",
              "      <th>State/UnionTerritory</th>\n",
              "      <th>ConfirmedIndianNational</th>\n",
              "      <th>ConfirmedForeignNational</th>\n",
              "      <th>Cured</th>\n",
              "      <th>Deaths</th>\n",
              "      <th>Confirmed</th>\n",
              "    </tr>\n",
              "  </thead>\n",
              "  <tbody>\n",
              "    <tr>\n",
              "      <th>0</th>\n",
              "      <td>1</td>\n",
              "      <td>30/01/20</td>\n",
              "      <td>6:00 PM</td>\n",
              "      <td>Kerala</td>\n",
              "      <td>1</td>\n",
              "      <td>0</td>\n",
              "      <td>0</td>\n",
              "      <td>0</td>\n",
              "      <td>1</td>\n",
              "    </tr>\n",
              "    <tr>\n",
              "      <th>1</th>\n",
              "      <td>2</td>\n",
              "      <td>31/01/20</td>\n",
              "      <td>6:00 PM</td>\n",
              "      <td>Kerala</td>\n",
              "      <td>1</td>\n",
              "      <td>0</td>\n",
              "      <td>0</td>\n",
              "      <td>0</td>\n",
              "      <td>1</td>\n",
              "    </tr>\n",
              "    <tr>\n",
              "      <th>2</th>\n",
              "      <td>3</td>\n",
              "      <td>01/02/20</td>\n",
              "      <td>6:00 PM</td>\n",
              "      <td>Kerala</td>\n",
              "      <td>2</td>\n",
              "      <td>0</td>\n",
              "      <td>0</td>\n",
              "      <td>0</td>\n",
              "      <td>2</td>\n",
              "    </tr>\n",
              "    <tr>\n",
              "      <th>3</th>\n",
              "      <td>4</td>\n",
              "      <td>02/02/20</td>\n",
              "      <td>6:00 PM</td>\n",
              "      <td>Kerala</td>\n",
              "      <td>3</td>\n",
              "      <td>0</td>\n",
              "      <td>0</td>\n",
              "      <td>0</td>\n",
              "      <td>3</td>\n",
              "    </tr>\n",
              "    <tr>\n",
              "      <th>4</th>\n",
              "      <td>5</td>\n",
              "      <td>03/02/20</td>\n",
              "      <td>6:00 PM</td>\n",
              "      <td>Kerala</td>\n",
              "      <td>3</td>\n",
              "      <td>0</td>\n",
              "      <td>0</td>\n",
              "      <td>0</td>\n",
              "      <td>3</td>\n",
              "    </tr>\n",
              "  </tbody>\n",
              "</table>\n",
              "</div>"
            ],
            "text/plain": [
              "   Sno      Date     Time  ... Cured Deaths Confirmed\n",
              "0    1  30/01/20  6:00 PM  ...     0      0         1\n",
              "1    2  31/01/20  6:00 PM  ...     0      0         1\n",
              "2    3  01/02/20  6:00 PM  ...     0      0         2\n",
              "3    4  02/02/20  6:00 PM  ...     0      0         3\n",
              "4    5  03/02/20  6:00 PM  ...     0      0         3\n",
              "\n",
              "[5 rows x 9 columns]"
            ]
          },
          "metadata": {
            "tags": []
          },
          "execution_count": 4
        }
      ]
    },
    {
      "cell_type": "code",
      "metadata": {
        "colab_type": "code",
        "id": "Rndr_U235KOY",
        "colab": {}
      },
      "source": [
        "def get_date(x):\n",
        "    if x is not None and type(x) is not float:\n",
        "        return datetime.strptime(x, '%d/%m/%y')"
      ],
      "execution_count": 0,
      "outputs": []
    },
    {
      "cell_type": "code",
      "metadata": {
        "colab_type": "code",
        "outputId": "49dff459-c811-4c5a-9993-f315e7309d50",
        "id": "OiH_qfdP5KOp",
        "colab": {
          "base_uri": "https://localhost:8080/",
          "height": 204
        }
      },
      "source": [
        "covid_count_df['date'] = pd.Series(covid_count_df.Date, index = covid_count_df.index)\n",
        "covid_count_df.date = covid_count_df.Date.apply(lambda x: get_date(x))\n",
        "del covid_count_df['Date']\n",
        "del covid_count_df['Time']\n",
        "del covid_count_df['Sno']\n",
        "covid_count_df.head()"
      ],
      "execution_count": 0,
      "outputs": [
        {
          "output_type": "execute_result",
          "data": {
            "text/html": [
              "<div>\n",
              "<style scoped>\n",
              "    .dataframe tbody tr th:only-of-type {\n",
              "        vertical-align: middle;\n",
              "    }\n",
              "\n",
              "    .dataframe tbody tr th {\n",
              "        vertical-align: top;\n",
              "    }\n",
              "\n",
              "    .dataframe thead th {\n",
              "        text-align: right;\n",
              "    }\n",
              "</style>\n",
              "<table border=\"1\" class=\"dataframe\">\n",
              "  <thead>\n",
              "    <tr style=\"text-align: right;\">\n",
              "      <th></th>\n",
              "      <th>State/UnionTerritory</th>\n",
              "      <th>ConfirmedIndianNational</th>\n",
              "      <th>ConfirmedForeignNational</th>\n",
              "      <th>Cured</th>\n",
              "      <th>Deaths</th>\n",
              "      <th>Confirmed</th>\n",
              "      <th>date</th>\n",
              "    </tr>\n",
              "  </thead>\n",
              "  <tbody>\n",
              "    <tr>\n",
              "      <th>0</th>\n",
              "      <td>Kerala</td>\n",
              "      <td>1</td>\n",
              "      <td>0</td>\n",
              "      <td>0</td>\n",
              "      <td>0</td>\n",
              "      <td>1</td>\n",
              "      <td>2020-01-30</td>\n",
              "    </tr>\n",
              "    <tr>\n",
              "      <th>1</th>\n",
              "      <td>Kerala</td>\n",
              "      <td>1</td>\n",
              "      <td>0</td>\n",
              "      <td>0</td>\n",
              "      <td>0</td>\n",
              "      <td>1</td>\n",
              "      <td>2020-01-31</td>\n",
              "    </tr>\n",
              "    <tr>\n",
              "      <th>2</th>\n",
              "      <td>Kerala</td>\n",
              "      <td>2</td>\n",
              "      <td>0</td>\n",
              "      <td>0</td>\n",
              "      <td>0</td>\n",
              "      <td>2</td>\n",
              "      <td>2020-02-01</td>\n",
              "    </tr>\n",
              "    <tr>\n",
              "      <th>3</th>\n",
              "      <td>Kerala</td>\n",
              "      <td>3</td>\n",
              "      <td>0</td>\n",
              "      <td>0</td>\n",
              "      <td>0</td>\n",
              "      <td>3</td>\n",
              "      <td>2020-02-02</td>\n",
              "    </tr>\n",
              "    <tr>\n",
              "      <th>4</th>\n",
              "      <td>Kerala</td>\n",
              "      <td>3</td>\n",
              "      <td>0</td>\n",
              "      <td>0</td>\n",
              "      <td>0</td>\n",
              "      <td>3</td>\n",
              "      <td>2020-02-03</td>\n",
              "    </tr>\n",
              "  </tbody>\n",
              "</table>\n",
              "</div>"
            ],
            "text/plain": [
              "  State/UnionTerritory ConfirmedIndianNational  ... Confirmed       date\n",
              "0               Kerala                       1  ...         1 2020-01-30\n",
              "1               Kerala                       1  ...         1 2020-01-31\n",
              "2               Kerala                       2  ...         2 2020-02-01\n",
              "3               Kerala                       3  ...         3 2020-02-02\n",
              "4               Kerala                       3  ...         3 2020-02-03\n",
              "\n",
              "[5 rows x 7 columns]"
            ]
          },
          "metadata": {
            "tags": []
          },
          "execution_count": 6
        }
      ]
    },
    {
      "cell_type": "code",
      "metadata": {
        "id": "PIp-ga8kKoBu",
        "colab_type": "code",
        "outputId": "a746d586-255c-4d98-c432-9ee32257f05d",
        "colab": {
          "base_uri": "https://localhost:8080/",
          "height": 34
        }
      },
      "source": [
        "date_list = covid_count_df['date'].drop_duplicates(keep='last').tolist()\n",
        "state_list = covid_count_df['State/UnionTerritory'].drop_duplicates(keep='last').tolist()\n",
        "print(len(date_list), len(state_list))"
      ],
      "execution_count": 0,
      "outputs": [
        {
          "output_type": "stream",
          "text": [
            "78 35\n"
          ],
          "name": "stdout"
        }
      ]
    },
    {
      "cell_type": "code",
      "metadata": {
        "id": "4hrat4qJMFw3",
        "colab_type": "code",
        "colab": {}
      },
      "source": [
        "count = np.zeros((3,len(state_list), len(date_list)))"
      ],
      "execution_count": 0,
      "outputs": []
    },
    {
      "cell_type": "code",
      "metadata": {
        "id": "ASLnM7DYK4fy",
        "colab_type": "code",
        "colab": {}
      },
      "source": [
        "for i in range(len(state_list)):\n",
        "  for j in range(len(date_list)):\n",
        "    df = covid_count_df[covid_count_df['date'] == date_list[j]]\n",
        "    df = df[df['State/UnionTerritory'] == state_list[i]]\n",
        "    if not df.empty:\n",
        "      count[0][i][j] = df['Confirmed'].tolist()[0]\n",
        "      count[1][i][j] = df['Cured'].tolist()[0]\n",
        "      count[2][i][j] = df['Deaths'].tolist()[0]"
      ],
      "execution_count": 0,
      "outputs": []
    },
    {
      "cell_type": "code",
      "metadata": {
        "id": "oeF2liDOO__j",
        "colab_type": "code",
        "outputId": "68bfdbc1-b025-46ad-c527-57749b44c764",
        "colab": {
          "base_uri": "https://localhost:8080/",
          "height": 360
        }
      },
      "source": [
        "india_df = pd.DataFrame({state_list[0]: count[0][0][:], state_list[1]: count[0][1][:], state_list[2]: count[0][2][:], \n",
        "                         state_list[3]: count[0][3][:], state_list[4]: count[0][4][:], state_list[5]: count[0][5][:],\n",
        "                         state_list[6]: count[0][6][:], state_list[7]: count[0][7][:], state_list[8]: count[0][8][:],\n",
        "                         state_list[9]: count[0][9][:], state_list[10]: count[0][10][:], state_list[11]: count[0][11][:],\n",
        "                         state_list[12]: count[0][12][:], state_list[13]: count[0][13][:], state_list[14]: count[0][14][:],\n",
        "                         state_list[15]: count[0][15][:], state_list[16]: count[0][16][:], state_list[17]: count[0][17][:],\n",
        "                         state_list[18]: count[0][18][:], state_list[19]: count[0][19][:], state_list[20]: count[0][20][:],\n",
        "                         state_list[21]: count[0][21][:], state_list[22]: count[0][22][:], state_list[23]: count[0][23][:],\n",
        "                         state_list[24]: count[0][24][:], state_list[25]: count[0][25][:], state_list[26]: count[0][26][:],\n",
        "                         state_list[27]: count[0][27][:], state_list[28]: count[0][28][:], state_list[29]: count[0][19][:],\n",
        "                         state_list[30]: count[0][30][:], state_list[31]: count[0][31][:], state_list[32]: count[0][32][:],\n",
        "                         state_list[33]: count[0][33][:], state_list[34]: count[0][34][:],}, index=date_list)\n",
        "del india_df['Unassigned']\n",
        "del india_df['Nagaland']\n",
        "india_df['Total'] = india_df['Andaman and Nicobar Islands'] + india_df['Andhra Pradesh'] + india_df['Assam'] + india_df['Bihar'] + india_df['Chandigarh'] + india_df['Chhattisgarh'] +  india_df['Delhi'] + india_df['Goa'] + india_df['Gujarat'] + india_df['Haryana'] + india_df['Himachal Pradesh'] + india_df['Jammu and Kashmir'] + india_df['Jharkhand'] + india_df['Karnataka'] + india_df['Kerala'] + india_df['Ladakh'] + india_df['West Bengal'] + india_df['Arunachal Pradesh'] + india_df['Madhya Pradesh'] + india_df['Maharashtra'] + india_df['Manipur'] + india_df['Meghalaya'] + india_df['Mizoram'] + india_df['Nagaland#'] + india_df['Odisha'] + india_df['Puducherry'] + india_df['Punjab'] + india_df['Rajasthan'] + india_df['Tamil Nadu'] + india_df['Telengana'] + india_df['Tripura'] + india_df['Uttarakhand'] + india_df['Uttar Pradesh']                                     \n",
        "india_df.head()"
      ],
      "execution_count": 0,
      "outputs": [
        {
          "output_type": "execute_result",
          "data": {
            "text/html": [
              "<div>\n",
              "<style scoped>\n",
              "    .dataframe tbody tr th:only-of-type {\n",
              "        vertical-align: middle;\n",
              "    }\n",
              "\n",
              "    .dataframe tbody tr th {\n",
              "        vertical-align: top;\n",
              "    }\n",
              "\n",
              "    .dataframe thead th {\n",
              "        text-align: right;\n",
              "    }\n",
              "</style>\n",
              "<table border=\"1\" class=\"dataframe\">\n",
              "  <thead>\n",
              "    <tr style=\"text-align: right;\">\n",
              "      <th></th>\n",
              "      <th>Andaman and Nicobar Islands</th>\n",
              "      <th>Andhra Pradesh</th>\n",
              "      <th>Arunachal Pradesh</th>\n",
              "      <th>Assam</th>\n",
              "      <th>Bihar</th>\n",
              "      <th>Chandigarh</th>\n",
              "      <th>Chhattisgarh</th>\n",
              "      <th>Delhi</th>\n",
              "      <th>Goa</th>\n",
              "      <th>Gujarat</th>\n",
              "      <th>Haryana</th>\n",
              "      <th>Himachal Pradesh</th>\n",
              "      <th>Jammu and Kashmir</th>\n",
              "      <th>Jharkhand</th>\n",
              "      <th>Karnataka</th>\n",
              "      <th>Kerala</th>\n",
              "      <th>Ladakh</th>\n",
              "      <th>Madhya Pradesh</th>\n",
              "      <th>Maharashtra</th>\n",
              "      <th>Manipur</th>\n",
              "      <th>Meghalaya</th>\n",
              "      <th>Mizoram</th>\n",
              "      <th>Nagaland#</th>\n",
              "      <th>Odisha</th>\n",
              "      <th>Puducherry</th>\n",
              "      <th>Punjab</th>\n",
              "      <th>Rajasthan</th>\n",
              "      <th>Tamil Nadu</th>\n",
              "      <th>Telengana</th>\n",
              "      <th>Tripura</th>\n",
              "      <th>Uttarakhand</th>\n",
              "      <th>Uttar Pradesh</th>\n",
              "      <th>West Bengal</th>\n",
              "      <th>Total</th>\n",
              "    </tr>\n",
              "  </thead>\n",
              "  <tbody>\n",
              "    <tr>\n",
              "      <th>2020-01-30</th>\n",
              "      <td>0.0</td>\n",
              "      <td>0.0</td>\n",
              "      <td>0.0</td>\n",
              "      <td>0.0</td>\n",
              "      <td>0.0</td>\n",
              "      <td>0.0</td>\n",
              "      <td>0.0</td>\n",
              "      <td>0.0</td>\n",
              "      <td>0.0</td>\n",
              "      <td>0.0</td>\n",
              "      <td>0.0</td>\n",
              "      <td>0.0</td>\n",
              "      <td>0.0</td>\n",
              "      <td>0.0</td>\n",
              "      <td>0.0</td>\n",
              "      <td>1.0</td>\n",
              "      <td>0.0</td>\n",
              "      <td>0.0</td>\n",
              "      <td>0.0</td>\n",
              "      <td>0.0</td>\n",
              "      <td>0.0</td>\n",
              "      <td>0.0</td>\n",
              "      <td>0.0</td>\n",
              "      <td>0.0</td>\n",
              "      <td>0.0</td>\n",
              "      <td>0.0</td>\n",
              "      <td>0.0</td>\n",
              "      <td>0.0</td>\n",
              "      <td>0.0</td>\n",
              "      <td>0.0</td>\n",
              "      <td>0.0</td>\n",
              "      <td>0.0</td>\n",
              "      <td>0.0</td>\n",
              "      <td>1.0</td>\n",
              "    </tr>\n",
              "    <tr>\n",
              "      <th>2020-01-31</th>\n",
              "      <td>0.0</td>\n",
              "      <td>0.0</td>\n",
              "      <td>0.0</td>\n",
              "      <td>0.0</td>\n",
              "      <td>0.0</td>\n",
              "      <td>0.0</td>\n",
              "      <td>0.0</td>\n",
              "      <td>0.0</td>\n",
              "      <td>0.0</td>\n",
              "      <td>0.0</td>\n",
              "      <td>0.0</td>\n",
              "      <td>0.0</td>\n",
              "      <td>0.0</td>\n",
              "      <td>0.0</td>\n",
              "      <td>0.0</td>\n",
              "      <td>1.0</td>\n",
              "      <td>0.0</td>\n",
              "      <td>0.0</td>\n",
              "      <td>0.0</td>\n",
              "      <td>0.0</td>\n",
              "      <td>0.0</td>\n",
              "      <td>0.0</td>\n",
              "      <td>0.0</td>\n",
              "      <td>0.0</td>\n",
              "      <td>0.0</td>\n",
              "      <td>0.0</td>\n",
              "      <td>0.0</td>\n",
              "      <td>0.0</td>\n",
              "      <td>0.0</td>\n",
              "      <td>0.0</td>\n",
              "      <td>0.0</td>\n",
              "      <td>0.0</td>\n",
              "      <td>0.0</td>\n",
              "      <td>1.0</td>\n",
              "    </tr>\n",
              "    <tr>\n",
              "      <th>2020-02-01</th>\n",
              "      <td>0.0</td>\n",
              "      <td>0.0</td>\n",
              "      <td>0.0</td>\n",
              "      <td>0.0</td>\n",
              "      <td>0.0</td>\n",
              "      <td>0.0</td>\n",
              "      <td>0.0</td>\n",
              "      <td>0.0</td>\n",
              "      <td>0.0</td>\n",
              "      <td>0.0</td>\n",
              "      <td>0.0</td>\n",
              "      <td>0.0</td>\n",
              "      <td>0.0</td>\n",
              "      <td>0.0</td>\n",
              "      <td>0.0</td>\n",
              "      <td>2.0</td>\n",
              "      <td>0.0</td>\n",
              "      <td>0.0</td>\n",
              "      <td>0.0</td>\n",
              "      <td>0.0</td>\n",
              "      <td>0.0</td>\n",
              "      <td>0.0</td>\n",
              "      <td>0.0</td>\n",
              "      <td>0.0</td>\n",
              "      <td>0.0</td>\n",
              "      <td>0.0</td>\n",
              "      <td>0.0</td>\n",
              "      <td>0.0</td>\n",
              "      <td>0.0</td>\n",
              "      <td>0.0</td>\n",
              "      <td>0.0</td>\n",
              "      <td>0.0</td>\n",
              "      <td>0.0</td>\n",
              "      <td>2.0</td>\n",
              "    </tr>\n",
              "    <tr>\n",
              "      <th>2020-02-02</th>\n",
              "      <td>0.0</td>\n",
              "      <td>0.0</td>\n",
              "      <td>0.0</td>\n",
              "      <td>0.0</td>\n",
              "      <td>0.0</td>\n",
              "      <td>0.0</td>\n",
              "      <td>0.0</td>\n",
              "      <td>0.0</td>\n",
              "      <td>0.0</td>\n",
              "      <td>0.0</td>\n",
              "      <td>0.0</td>\n",
              "      <td>0.0</td>\n",
              "      <td>0.0</td>\n",
              "      <td>0.0</td>\n",
              "      <td>0.0</td>\n",
              "      <td>3.0</td>\n",
              "      <td>0.0</td>\n",
              "      <td>0.0</td>\n",
              "      <td>0.0</td>\n",
              "      <td>0.0</td>\n",
              "      <td>0.0</td>\n",
              "      <td>0.0</td>\n",
              "      <td>0.0</td>\n",
              "      <td>0.0</td>\n",
              "      <td>0.0</td>\n",
              "      <td>0.0</td>\n",
              "      <td>0.0</td>\n",
              "      <td>0.0</td>\n",
              "      <td>0.0</td>\n",
              "      <td>0.0</td>\n",
              "      <td>0.0</td>\n",
              "      <td>0.0</td>\n",
              "      <td>0.0</td>\n",
              "      <td>3.0</td>\n",
              "    </tr>\n",
              "    <tr>\n",
              "      <th>2020-02-03</th>\n",
              "      <td>0.0</td>\n",
              "      <td>0.0</td>\n",
              "      <td>0.0</td>\n",
              "      <td>0.0</td>\n",
              "      <td>0.0</td>\n",
              "      <td>0.0</td>\n",
              "      <td>0.0</td>\n",
              "      <td>0.0</td>\n",
              "      <td>0.0</td>\n",
              "      <td>0.0</td>\n",
              "      <td>0.0</td>\n",
              "      <td>0.0</td>\n",
              "      <td>0.0</td>\n",
              "      <td>0.0</td>\n",
              "      <td>0.0</td>\n",
              "      <td>3.0</td>\n",
              "      <td>0.0</td>\n",
              "      <td>0.0</td>\n",
              "      <td>0.0</td>\n",
              "      <td>0.0</td>\n",
              "      <td>0.0</td>\n",
              "      <td>0.0</td>\n",
              "      <td>0.0</td>\n",
              "      <td>0.0</td>\n",
              "      <td>0.0</td>\n",
              "      <td>0.0</td>\n",
              "      <td>0.0</td>\n",
              "      <td>0.0</td>\n",
              "      <td>0.0</td>\n",
              "      <td>0.0</td>\n",
              "      <td>0.0</td>\n",
              "      <td>0.0</td>\n",
              "      <td>0.0</td>\n",
              "      <td>3.0</td>\n",
              "    </tr>\n",
              "  </tbody>\n",
              "</table>\n",
              "</div>"
            ],
            "text/plain": [
              "            Andaman and Nicobar Islands  Andhra Pradesh  ...  West Bengal  Total\n",
              "2020-01-30                          0.0             0.0  ...          0.0    1.0\n",
              "2020-01-31                          0.0             0.0  ...          0.0    1.0\n",
              "2020-02-01                          0.0             0.0  ...          0.0    2.0\n",
              "2020-02-02                          0.0             0.0  ...          0.0    3.0\n",
              "2020-02-03                          0.0             0.0  ...          0.0    3.0\n",
              "\n",
              "[5 rows x 34 columns]"
            ]
          },
          "metadata": {
            "tags": []
          },
          "execution_count": 10
        }
      ]
    },
    {
      "cell_type": "code",
      "metadata": {
        "id": "Wx4qwZVRb2-g",
        "colab_type": "code",
        "outputId": "b7bbabd3-4921-4970-af66-839a273e5afc",
        "colab": {
          "base_uri": "https://localhost:8080/",
          "height": 282
        }
      },
      "source": [
        "india = india_df['Total'].tolist()\n",
        "date = india_df.index.tolist()\n",
        "date.append(datetime(2020,4,17))\n",
        "date.append(datetime(2020,4,18))\n",
        "date.append(datetime(2020,4,19))\n",
        "india.append(14352)\n",
        "india.append(15722)\n",
        "india.append(17304)\n",
        "#print(india)\n",
        "india_log = np.log(india)\n",
        "india_df1 = pd.DataFrame({'Confirmed cases':india,},index=date)\n",
        "plt.plot(india_df1)"
      ],
      "execution_count": 0,
      "outputs": [
        {
          "output_type": "execute_result",
          "data": {
            "text/plain": [
              "[<matplotlib.lines.Line2D at 0x7f6a27070860>]"
            ]
          },
          "metadata": {
            "tags": []
          },
          "execution_count": 11
        },
        {
          "output_type": "display_data",
          "data": {
            "image/png": "[encoded data removed]",
            "text/plain": [
              "<Figure size 432x288 with 1 Axes>"
            ]
          },
          "metadata": {
            "tags": [],
            "needs_background": "light"
          }
        }
      ]
    },
    {
      "cell_type": "code",
      "metadata": {
        "id": "p8H42cFZzn7s",
        "colab_type": "code",
        "outputId": "b2a1c852-78f3-4a64-d5b7-4cc5e2eff246",
        "colab": {
          "base_uri": "https://localhost:8080/",
          "height": 300
        }
      },
      "source": [
        "decomposition = seasonal_decompose(india_df1, model='additive') \n",
        "fig = decomposition.plot()\n",
        "plt.show()"
      ],
      "execution_count": 0,
      "outputs": [
        {
          "output_type": "display_data",
          "data": {
            "image/png": "[encoded data removed]",
            "text/plain": [
              "<Figure size 432x288 with 4 Axes>"
            ]
          },
          "metadata": {
            "tags": [],
            "needs_background": "light"
          }
        }
      ]
    },
    {
      "cell_type": "code",
      "metadata": {
        "id": "IOkMuHFndjR2",
        "colab_type": "code",
        "outputId": "7824902d-6080-42a8-bdc1-0edff1c16bac",
        "colab": {
          "base_uri": "https://localhost:8080/",
          "height": 272
        }
      },
      "source": [
        "model = auto_arima(india_df1, trace=True, error_action='ignore', suppress_warnings=True)\n",
        "results = model.fit(india_df1)"
      ],
      "execution_count": 0,
      "outputs": [
        {
          "output_type": "stream",
          "text": [
            "Fit ARIMA: order=(2, 2, 2) seasonal_order=(0, 0, 0, 1); AIC=974.395, BIC=988.612, Fit time=0.377 seconds\n",
            "Fit ARIMA: order=(0, 2, 0) seasonal_order=(0, 0, 0, 1); AIC=1014.314, BIC=1019.052, Fit time=0.010 seconds\n",
            "Fit ARIMA: order=(1, 2, 0) seasonal_order=(0, 0, 0, 1); AIC=991.400, BIC=998.508, Fit time=0.051 seconds\n",
            "Fit ARIMA: order=(0, 2, 1) seasonal_order=(0, 0, 0, 1); AIC=991.479, BIC=998.588, Fit time=0.091 seconds\n",
            "Fit ARIMA: order=(1, 2, 2) seasonal_order=(0, 0, 0, 1); AIC=975.896, BIC=987.743, Fit time=0.251 seconds\n",
            "Fit ARIMA: order=(3, 2, 2) seasonal_order=(0, 0, 0, 1); AIC=969.642, BIC=986.228, Fit time=0.371 seconds\n",
            "Fit ARIMA: order=(3, 2, 1) seasonal_order=(0, 0, 0, 1); AIC=967.922, BIC=982.139, Fit time=0.304 seconds\n",
            "Fit ARIMA: order=(2, 2, 0) seasonal_order=(0, 0, 0, 1); AIC=982.989, BIC=992.466, Fit time=0.069 seconds\n",
            "Fit ARIMA: order=(4, 2, 2) seasonal_order=(0, 0, 0, 1); AIC=966.762, BIC=985.717, Fit time=0.461 seconds\n",
            "Fit ARIMA: order=(5, 2, 2) seasonal_order=(0, 0, 0, 1); AIC=963.806, BIC=985.131, Fit time=0.601 seconds\n",
            "Fit ARIMA: order=(5, 2, 1) seasonal_order=(0, 0, 0, 1); AIC=962.374, BIC=981.329, Fit time=0.523 seconds\n",
            "Fit ARIMA: order=(4, 2, 0) seasonal_order=(0, 0, 0, 1); AIC=979.563, BIC=993.779, Fit time=0.158 seconds\n",
            "Fit ARIMA: order=(4, 2, 1) seasonal_order=(0, 0, 0, 1); AIC=969.701, BIC=986.288, Fit time=0.418 seconds\n",
            "Fit ARIMA: order=(5, 2, 0) seasonal_order=(0, 0, 0, 1); AIC=960.589, BIC=977.175, Fit time=0.423 seconds\n",
            "Total fit time: 4.139 seconds\n"
          ],
          "name": "stdout"
        }
      ]
    },
    {
      "cell_type": "code",
      "metadata": {
        "id": "kZQ8u5L2yVqi",
        "colab_type": "code",
        "colab": {}
      },
      "source": [
        "forecast = np.asarray(model.predict(n_periods=steps),dtype=np.int)\n",
        "delta = timedelta(days=1)\n",
        "dates = []\n",
        "Date = date[len(date)-1]\n",
        "for i in range(steps):\n",
        "  Date += delta\n",
        "  dates.append(Date)"
      ],
      "execution_count": 0,
      "outputs": []
    },
    {
      "cell_type": "code",
      "metadata": {
        "colab_type": "code",
        "id": "LqROvy8dyj79",
        "outputId": "28c2bc2f-f2a5-4341-8fa9-b65a1cc4c86d",
        "colab": {
          "base_uri": "https://localhost:8080/",
          "height": 34
        }
      },
      "source": [
        "date[len(date)-1]"
      ],
      "execution_count": 0,
      "outputs": [
        {
          "output_type": "execute_result",
          "data": {
            "text/plain": [
              "datetime.datetime(2020, 4, 19, 0, 0)"
            ]
          },
          "metadata": {
            "tags": []
          },
          "execution_count": 15
        }
      ]
    },
    {
      "cell_type": "code",
      "metadata": {
        "colab_type": "code",
        "id": "kdkWHyn0yj8L",
        "outputId": "2db77a47-1ca5-4706-be48-3609326961dd",
        "colab": {
          "base_uri": "https://localhost:8080/",
          "height": 359
        }
      },
      "source": [
        "forecast_df = pd.DataFrame({\"Confirmed\": forecast,}, index=dates)\n",
        "forecast_df.head(10)"
      ],
      "execution_count": 0,
      "outputs": [
        {
          "output_type": "execute_result",
          "data": {
            "text/html": [
              "<div>\n",
              "<style scoped>\n",
              "    .dataframe tbody tr th:only-of-type {\n",
              "        vertical-align: middle;\n",
              "    }\n",
              "\n",
              "    .dataframe tbody tr th {\n",
              "        vertical-align: top;\n",
              "    }\n",
              "\n",
              "    .dataframe thead th {\n",
              "        text-align: right;\n",
              "    }\n",
              "</style>\n",
              "<table border=\"1\" class=\"dataframe\">\n",
              "  <thead>\n",
              "    <tr style=\"text-align: right;\">\n",
              "      <th></th>\n",
              "      <th>Confirmed</th>\n",
              "    </tr>\n",
              "  </thead>\n",
              "  <tbody>\n",
              "    <tr>\n",
              "      <th>2020-04-20</th>\n",
              "      <td>18979</td>\n",
              "    </tr>\n",
              "    <tr>\n",
              "      <th>2020-04-21</th>\n",
              "      <td>20406</td>\n",
              "    </tr>\n",
              "    <tr>\n",
              "      <th>2020-04-22</th>\n",
              "      <td>22435</td>\n",
              "    </tr>\n",
              "    <tr>\n",
              "      <th>2020-04-23</th>\n",
              "      <td>24072</td>\n",
              "    </tr>\n",
              "    <tr>\n",
              "      <th>2020-04-24</th>\n",
              "      <td>25823</td>\n",
              "    </tr>\n",
              "    <tr>\n",
              "      <th>2020-04-25</th>\n",
              "      <td>27879</td>\n",
              "    </tr>\n",
              "    <tr>\n",
              "      <th>2020-04-26</th>\n",
              "      <td>29602</td>\n",
              "    </tr>\n",
              "    <tr>\n",
              "      <th>2020-04-27</th>\n",
              "      <td>31728</td>\n",
              "    </tr>\n",
              "    <tr>\n",
              "      <th>2020-04-28</th>\n",
              "      <td>33651</td>\n",
              "    </tr>\n",
              "    <tr>\n",
              "      <th>2020-04-29</th>\n",
              "      <td>35614</td>\n",
              "    </tr>\n",
              "  </tbody>\n",
              "</table>\n",
              "</div>"
            ],
            "text/plain": [
              "            Confirmed\n",
              "2020-04-20      18979\n",
              "2020-04-21      20406\n",
              "2020-04-22      22435\n",
              "2020-04-23      24072\n",
              "2020-04-24      25823\n",
              "2020-04-25      27879\n",
              "2020-04-26      29602\n",
              "2020-04-27      31728\n",
              "2020-04-28      33651\n",
              "2020-04-29      35614"
            ]
          },
          "metadata": {
            "tags": []
          },
          "execution_count": 16
        }
      ]
    },
    {
      "cell_type": "code",
      "metadata": {
        "id": "KFsnzvId-URt",
        "colab_type": "code",
        "outputId": "871869b2-adcd-49d9-bf45-b715047a6211",
        "colab": {
          "base_uri": "https://localhost:8080/",
          "height": 359
        }
      },
      "source": [
        "forecast_df.head(10)"
      ],
      "execution_count": 0,
      "outputs": [
        {
          "output_type": "execute_result",
          "data": {
            "text/html": [
              "<div>\n",
              "<style scoped>\n",
              "    .dataframe tbody tr th:only-of-type {\n",
              "        vertical-align: middle;\n",
              "    }\n",
              "\n",
              "    .dataframe tbody tr th {\n",
              "        vertical-align: top;\n",
              "    }\n",
              "\n",
              "    .dataframe thead th {\n",
              "        text-align: right;\n",
              "    }\n",
              "</style>\n",
              "<table border=\"1\" class=\"dataframe\">\n",
              "  <thead>\n",
              "    <tr style=\"text-align: right;\">\n",
              "      <th></th>\n",
              "      <th>Confirmed</th>\n",
              "    </tr>\n",
              "  </thead>\n",
              "  <tbody>\n",
              "    <tr>\n",
              "      <th>2020-04-20</th>\n",
              "      <td>18979</td>\n",
              "    </tr>\n",
              "    <tr>\n",
              "      <th>2020-04-21</th>\n",
              "      <td>20406</td>\n",
              "    </tr>\n",
              "    <tr>\n",
              "      <th>2020-04-22</th>\n",
              "      <td>22435</td>\n",
              "    </tr>\n",
              "    <tr>\n",
              "      <th>2020-04-23</th>\n",
              "      <td>24072</td>\n",
              "    </tr>\n",
              "    <tr>\n",
              "      <th>2020-04-24</th>\n",
              "      <td>25823</td>\n",
              "    </tr>\n",
              "    <tr>\n",
              "      <th>2020-04-25</th>\n",
              "      <td>27879</td>\n",
              "    </tr>\n",
              "    <tr>\n",
              "      <th>2020-04-26</th>\n",
              "      <td>29602</td>\n",
              "    </tr>\n",
              "    <tr>\n",
              "      <th>2020-04-27</th>\n",
              "      <td>31728</td>\n",
              "    </tr>\n",
              "    <tr>\n",
              "      <th>2020-04-28</th>\n",
              "      <td>33651</td>\n",
              "    </tr>\n",
              "    <tr>\n",
              "      <th>2020-04-29</th>\n",
              "      <td>35614</td>\n",
              "    </tr>\n",
              "  </tbody>\n",
              "</table>\n",
              "</div>"
            ],
            "text/plain": [
              "            Confirmed\n",
              "2020-04-20      18979\n",
              "2020-04-21      20406\n",
              "2020-04-22      22435\n",
              "2020-04-23      24072\n",
              "2020-04-24      25823\n",
              "2020-04-25      27879\n",
              "2020-04-26      29602\n",
              "2020-04-27      31728\n",
              "2020-04-28      33651\n",
              "2020-04-29      35614"
            ]
          },
          "metadata": {
            "tags": []
          },
          "execution_count": 17
        }
      ]
    },
    {
      "cell_type": "markdown",
      "metadata": {
        "id": "4OP6rhff5xRj",
        "colab_type": "text"
      },
      "source": [
        "Covid-19 Tests carried out\n"
      ]
    },
    {
      "cell_type": "code",
      "metadata": {
        "id": "4QBYAO8L0lXz",
        "colab_type": "code",
        "outputId": "1cc2ecfc-bb76-4477-8da7-9caabb43d3e4",
        "colab": {
          "base_uri": "https://localhost:8080/",
          "height": 204
        }
      },
      "source": [
        "test_df = pd.read_csv('/Covid-19/StatewiseTestingDetails.csv')\n",
        "test_df.head()"
      ],
      "execution_count": 0,
      "outputs": [
        {
          "output_type": "execute_result",
          "data": {
            "text/html": [
              "<div>\n",
              "<style scoped>\n",
              "    .dataframe tbody tr th:only-of-type {\n",
              "        vertical-align: middle;\n",
              "    }\n",
              "\n",
              "    .dataframe tbody tr th {\n",
              "        vertical-align: top;\n",
              "    }\n",
              "\n",
              "    .dataframe thead th {\n",
              "        text-align: right;\n",
              "    }\n",
              "</style>\n",
              "<table border=\"1\" class=\"dataframe\">\n",
              "  <thead>\n",
              "    <tr style=\"text-align: right;\">\n",
              "      <th></th>\n",
              "      <th>Date</th>\n",
              "      <th>State</th>\n",
              "      <th>TotalSamples</th>\n",
              "      <th>Negative</th>\n",
              "      <th>Positive</th>\n",
              "    </tr>\n",
              "  </thead>\n",
              "  <tbody>\n",
              "    <tr>\n",
              "      <th>0</th>\n",
              "      <td>2020-02-17</td>\n",
              "      <td>Kerala</td>\n",
              "      <td>423</td>\n",
              "      <td>406.0</td>\n",
              "      <td>3</td>\n",
              "    </tr>\n",
              "    <tr>\n",
              "      <th>1</th>\n",
              "      <td>2020-02-18</td>\n",
              "      <td>Kerala</td>\n",
              "      <td>425</td>\n",
              "      <td>420.0</td>\n",
              "      <td>3</td>\n",
              "    </tr>\n",
              "    <tr>\n",
              "      <th>2</th>\n",
              "      <td>2020-02-19</td>\n",
              "      <td>Kerala</td>\n",
              "      <td>432</td>\n",
              "      <td>423.0</td>\n",
              "      <td>3</td>\n",
              "    </tr>\n",
              "    <tr>\n",
              "      <th>3</th>\n",
              "      <td>2020-02-20</td>\n",
              "      <td>Kerala</td>\n",
              "      <td>433</td>\n",
              "      <td>423.0</td>\n",
              "      <td>3</td>\n",
              "    </tr>\n",
              "    <tr>\n",
              "      <th>4</th>\n",
              "      <td>2020-02-21</td>\n",
              "      <td>Kerala</td>\n",
              "      <td>437</td>\n",
              "      <td>426.0</td>\n",
              "      <td>3</td>\n",
              "    </tr>\n",
              "  </tbody>\n",
              "</table>\n",
              "</div>"
            ],
            "text/plain": [
              "         Date   State  TotalSamples  Negative  Positive\n",
              "0  2020-02-17  Kerala           423     406.0         3\n",
              "1  2020-02-18  Kerala           425     420.0         3\n",
              "2  2020-02-19  Kerala           432     423.0         3\n",
              "3  2020-02-20  Kerala           433     423.0         3\n",
              "4  2020-02-21  Kerala           437     426.0         3"
            ]
          },
          "metadata": {
            "tags": []
          },
          "execution_count": 17
        }
      ]
    },
    {
      "cell_type": "code",
      "metadata": {
        "colab_type": "code",
        "id": "hpwMMIIA2Qnh",
        "colab": {}
      },
      "source": [
        "def get_date(x):\n",
        "    if x is not None and type(x) is not float:\n",
        "        return datetime.strptime(x, '%Y-%m-%d')"
      ],
      "execution_count": 0,
      "outputs": []
    },
    {
      "cell_type": "code",
      "metadata": {
        "colab_type": "code",
        "outputId": "a7f306d2-1c8f-43c9-d23e-37941aee64fa",
        "id": "3RWzHkU62Qnw",
        "colab": {
          "base_uri": "https://localhost:8080/",
          "height": 204
        }
      },
      "source": [
        "test_df['date'] = pd.Series(test_df.Date, index = test_df.index)\n",
        "test_df.date = test_df.Date.apply(lambda x: get_date(x))\n",
        "del test_df['Date']\n",
        "test_df.head()"
      ],
      "execution_count": 0,
      "outputs": [
        {
          "output_type": "execute_result",
          "data": {
            "text/html": [
              "<div>\n",
              "<style scoped>\n",
              "    .dataframe tbody tr th:only-of-type {\n",
              "        vertical-align: middle;\n",
              "    }\n",
              "\n",
              "    .dataframe tbody tr th {\n",
              "        vertical-align: top;\n",
              "    }\n",
              "\n",
              "    .dataframe thead th {\n",
              "        text-align: right;\n",
              "    }\n",
              "</style>\n",
              "<table border=\"1\" class=\"dataframe\">\n",
              "  <thead>\n",
              "    <tr style=\"text-align: right;\">\n",
              "      <th></th>\n",
              "      <th>State</th>\n",
              "      <th>TotalSamples</th>\n",
              "      <th>Negative</th>\n",
              "      <th>Positive</th>\n",
              "      <th>date</th>\n",
              "    </tr>\n",
              "  </thead>\n",
              "  <tbody>\n",
              "    <tr>\n",
              "      <th>0</th>\n",
              "      <td>Kerala</td>\n",
              "      <td>423</td>\n",
              "      <td>406.0</td>\n",
              "      <td>3</td>\n",
              "      <td>2020-02-17</td>\n",
              "    </tr>\n",
              "    <tr>\n",
              "      <th>1</th>\n",
              "      <td>Kerala</td>\n",
              "      <td>425</td>\n",
              "      <td>420.0</td>\n",
              "      <td>3</td>\n",
              "      <td>2020-02-18</td>\n",
              "    </tr>\n",
              "    <tr>\n",
              "      <th>2</th>\n",
              "      <td>Kerala</td>\n",
              "      <td>432</td>\n",
              "      <td>423.0</td>\n",
              "      <td>3</td>\n",
              "      <td>2020-02-19</td>\n",
              "    </tr>\n",
              "    <tr>\n",
              "      <th>3</th>\n",
              "      <td>Kerala</td>\n",
              "      <td>433</td>\n",
              "      <td>423.0</td>\n",
              "      <td>3</td>\n",
              "      <td>2020-02-20</td>\n",
              "    </tr>\n",
              "    <tr>\n",
              "      <th>4</th>\n",
              "      <td>Kerala</td>\n",
              "      <td>437</td>\n",
              "      <td>426.0</td>\n",
              "      <td>3</td>\n",
              "      <td>2020-02-21</td>\n",
              "    </tr>\n",
              "  </tbody>\n",
              "</table>\n",
              "</div>"
            ],
            "text/plain": [
              "    State  TotalSamples  Negative  Positive       date\n",
              "0  Kerala           423     406.0         3 2020-02-17\n",
              "1  Kerala           425     420.0         3 2020-02-18\n",
              "2  Kerala           432     423.0         3 2020-02-19\n",
              "3  Kerala           433     423.0         3 2020-02-20\n",
              "4  Kerala           437     426.0         3 2020-02-21"
            ]
          },
          "metadata": {
            "tags": []
          },
          "execution_count": 19
        }
      ]
    },
    {
      "cell_type": "code",
      "metadata": {
        "id": "VdmTh7GQ2Yoi",
        "colab_type": "code",
        "colab": {}
      },
      "source": [
        "dates = test_df['date'].drop_duplicates(keep='last').tolist()\n",
        "Tests = []\n",
        "Date_test = []\n",
        "for date in dates:\n",
        "  df = test_df[test_df['date'] <= date]\n",
        "  total_test = df['TotalSamples'].sum()\n",
        "  Tests.append(total_test)\n",
        "  Date_test.append(date)"
      ],
      "execution_count": 0,
      "outputs": []
    },
    {
      "cell_type": "code",
      "metadata": {
        "colab_type": "code",
        "outputId": "fc18e038-1d81-4ae1-8b21-1afb3c127f13",
        "id": "3UfDUcqD1ck1",
        "colab": {
          "base_uri": "https://localhost:8080/",
          "height": 282
        }
      },
      "source": [
        "log = np.log(Tests)\n",
        "plt.plot(log)"
      ],
      "execution_count": 0,
      "outputs": [
        {
          "output_type": "execute_result",
          "data": {
            "text/plain": [
              "[<matplotlib.lines.Line2D at 0x7f2fd80a1c18>]"
            ]
          },
          "metadata": {
            "tags": []
          },
          "execution_count": 22
        },
        {
          "output_type": "display_data",
          "data": {
            "image/png": "[encoded data removed]",
            "text/plain": [
              "<Figure size 432x288 with 1 Axes>"
            ]
          },
          "metadata": {
            "tags": [],
            "needs_background": "light"
          }
        }
      ]
    },
    {
      "cell_type": "code",
      "metadata": {
        "colab_type": "code",
        "outputId": "1c64f42a-fdfa-4b02-b793-7fcc11cdb561",
        "id": "-DAGBNyd1clE",
        "colab": {
          "base_uri": "https://localhost:8080/",
          "height": 204
        }
      },
      "source": [
        "model = auto_arima(log, trace=True, error_action='ignore', suppress_warnings=True)\n",
        "results = model.fit(log)"
      ],
      "execution_count": 0,
      "outputs": [
        {
          "output_type": "stream",
          "text": [
            "Fit ARIMA: order=(2, 1, 2) seasonal_order=(0, 0, 0, 1); AIC=-169.855, BIC=-157.921, Fit time=0.339 seconds\n",
            "Fit ARIMA: order=(0, 1, 0) seasonal_order=(0, 0, 0, 1); AIC=-95.944, BIC=-91.966, Fit time=0.013 seconds\n",
            "Fit ARIMA: order=(1, 1, 0) seasonal_order=(0, 0, 0, 1); AIC=-159.270, BIC=-153.303, Fit time=0.193 seconds\n",
            "Fit ARIMA: order=(0, 1, 1) seasonal_order=(0, 0, 0, 1); AIC=-128.470, BIC=-122.503, Fit time=0.103 seconds\n",
            "Fit ARIMA: order=(1, 1, 2) seasonal_order=(0, 0, 0, 1); AIC=-166.846, BIC=-156.901, Fit time=0.452 seconds\n",
            "Fit ARIMA: order=(3, 1, 2) seasonal_order=(0, 0, 0, 1); AIC=-167.650, BIC=-153.727, Fit time=0.363 seconds\n",
            "Fit ARIMA: order=(2, 1, 1) seasonal_order=(0, 0, 0, 1); AIC=-160.750, BIC=-150.805, Fit time=0.305 seconds\n",
            "Fit ARIMA: order=(2, 1, 3) seasonal_order=(0, 0, 0, 1); AIC=-166.184, BIC=-152.261, Fit time=0.354 seconds\n",
            "Fit ARIMA: order=(1, 1, 1) seasonal_order=(0, 0, 0, 1); AIC=-164.381, BIC=-156.425, Fit time=0.283 seconds\n",
            "Fit ARIMA: order=(3, 1, 3) seasonal_order=(0, 0, 0, 1); AIC=-162.454, BIC=-146.542, Fit time=0.413 seconds\n",
            "Total fit time: 2.826 seconds\n"
          ],
          "name": "stdout"
        }
      ]
    },
    {
      "cell_type": "code",
      "metadata": {
        "colab_type": "code",
        "id": "00ag7nup1clI",
        "colab": {}
      },
      "source": [
        "forecast = np.asarray(np.exp(model.predict(n_periods=steps)),dtype=np.int)\n",
        "delta = timedelta(days=1)\n",
        "dates = []\n",
        "date = Date_test[len(Date_test)-1]\n",
        "for i in range(steps):\n",
        "  date += delta\n",
        "  dates.append(date)"
      ],
      "execution_count": 0,
      "outputs": []
    },
    {
      "cell_type": "code",
      "metadata": {
        "colab_type": "code",
        "outputId": "8eebecdf-1f39-4c86-a846-03c877bd9e0a",
        "id": "n73wXIbB1clM",
        "colab": {
          "base_uri": "https://localhost:8080/",
          "height": 34
        }
      },
      "source": [
        "Date_test[len(Date_test)-1]"
      ],
      "execution_count": 0,
      "outputs": [
        {
          "output_type": "execute_result",
          "data": {
            "text/plain": [
              "Timestamp('2020-04-11 00:00:00')"
            ]
          },
          "metadata": {
            "tags": []
          },
          "execution_count": 25
        }
      ]
    },
    {
      "cell_type": "code",
      "metadata": {
        "colab_type": "code",
        "outputId": "0508f3ee-597b-4479-ad72-078cb0cb22ef",
        "id": "PsRyzVHV1clR",
        "colab": {
          "base_uri": "https://localhost:8080/",
          "height": 359
        }
      },
      "source": [
        "forecast_df =  pd.DataFrame({\"Tests\": forecast,}, index=dates)\n",
        "forecast_df.head(10)"
      ],
      "execution_count": 0,
      "outputs": [
        {
          "output_type": "execute_result",
          "data": {
            "text/html": [
              "<div>\n",
              "<style scoped>\n",
              "    .dataframe tbody tr th:only-of-type {\n",
              "        vertical-align: middle;\n",
              "    }\n",
              "\n",
              "    .dataframe tbody tr th {\n",
              "        vertical-align: top;\n",
              "    }\n",
              "\n",
              "    .dataframe thead th {\n",
              "        text-align: right;\n",
              "    }\n",
              "</style>\n",
              "<table border=\"1\" class=\"dataframe\">\n",
              "  <thead>\n",
              "    <tr style=\"text-align: right;\">\n",
              "      <th></th>\n",
              "      <th>Tests</th>\n",
              "    </tr>\n",
              "  </thead>\n",
              "  <tbody>\n",
              "    <tr>\n",
              "      <th>2020-04-12</th>\n",
              "      <td>783592</td>\n",
              "    </tr>\n",
              "    <tr>\n",
              "      <th>2020-04-13</th>\n",
              "      <td>713302</td>\n",
              "    </tr>\n",
              "    <tr>\n",
              "      <th>2020-04-14</th>\n",
              "      <td>611764</td>\n",
              "    </tr>\n",
              "    <tr>\n",
              "      <th>2020-04-15</th>\n",
              "      <td>501681</td>\n",
              "    </tr>\n",
              "    <tr>\n",
              "      <th>2020-04-16</th>\n",
              "      <td>398022</td>\n",
              "    </tr>\n",
              "    <tr>\n",
              "      <th>2020-04-17</th>\n",
              "      <td>308377</td>\n",
              "    </tr>\n",
              "    <tr>\n",
              "      <th>2020-04-18</th>\n",
              "      <td>235061</td>\n",
              "    </tr>\n",
              "    <tr>\n",
              "      <th>2020-04-19</th>\n",
              "      <td>177322</td>\n",
              "    </tr>\n",
              "    <tr>\n",
              "      <th>2020-04-20</th>\n",
              "      <td>133004</td>\n",
              "    </tr>\n",
              "    <tr>\n",
              "      <th>2020-04-21</th>\n",
              "      <td>99562</td>\n",
              "    </tr>\n",
              "  </tbody>\n",
              "</table>\n",
              "</div>"
            ],
            "text/plain": [
              "             Tests\n",
              "2020-04-12  783592\n",
              "2020-04-13  713302\n",
              "2020-04-14  611764\n",
              "2020-04-15  501681\n",
              "2020-04-16  398022\n",
              "2020-04-17  308377\n",
              "2020-04-18  235061\n",
              "2020-04-19  177322\n",
              "2020-04-20  133004\n",
              "2020-04-21   99562"
            ]
          },
          "metadata": {
            "tags": []
          },
          "execution_count": 26
        }
      ]
    }
  ],
  "metadata": {
    "colab": {
      "name": "COVID-19_INDIA.ipynb",
      "provenance": [],
      "collapsed_sections": []
    },
    "kernelspec": {
      "name": "python3",
      "display_name": "Python 3"
    }
  },
  "nbformat": 4,
  "nbformat_minor": 0
}